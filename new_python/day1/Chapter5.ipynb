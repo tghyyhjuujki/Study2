{
 "cells": [
  {
   "cell_type": "code",
   "execution_count": null,
   "metadata": {},
   "outputs": [],
   "source": [
    "ph = float(input('pH 농도를 입력하세요:'))\n",
    "if ph < 7.0 :  # True, False \n",
    "    print('{}, 은(는) 산성입니다.'.format(ph))\n",
    "elif ph > 7.0 :\n",
    "    print('{}, 은(는) 염기성입니다.'.format(ph))\n",
    "else :\n",
    "    print('{}, 은(는) 중성입니다.'.format(ph))"
   ]
  }
 ],
 "metadata": {
  "kernelspec": {
   "display_name": "Python 3",
   "language": "python",
   "name": "python3"
  },
  "language_info": {
   "codemirror_mode": {
    "name": "ipython",
    "version": 3
   },
   "file_extension": ".py",
   "mimetype": "text/x-python",
   "name": "python",
   "nbconvert_exporter": "python",
   "pygments_lexer": "ipython3",
   "version": "3.7.6"
  }
 },
 "nbformat": 4,
 "nbformat_minor": 4
}
