{
 "cells": [
  {
   "cell_type": "code",
   "execution_count": 9,
   "metadata": {},
   "outputs": [],
   "source": [
    "def sum(kor:float, eng:float, mat:float) -> float:\n",
    "    result = kor + eng + mat\n",
    "    return result\n",
    "\n",
    "def avg(total):\n",
    "    return total / 3"
   ]
  },
  {
   "cell_type": "code",
   "execution_count": 10,
   "metadata": {},
   "outputs": [
    {
     "name": "stdout",
     "output_type": "stream",
     "text": [
      "이름을 입력하세요:a\n",
      "국어 점수를 입력하세요:100\n",
      "영어 점수를 입력하세요:90\n",
      "수학 점수를 입력하세요:80\n",
      "a의 총점:270.0\n",
      "a의 평균:90.0\n"
     ]
    }
   ],
   "source": [
    "# 여기는 주석입니다.\n",
    "\"\"\"\n",
    "여기도 주석이다. Comment\n",
    "\"\"\"\n",
    "name = input('이름을 입력하세요:')\n",
    "kor = input('국어 점수를 입력하세요:')\n",
    "eng = input('영어 점수를 입력하세요:')\n",
    "mat = input('수학 점수를 입력하세요:')\n",
    "\n",
    "sum_of_user1 = sum(float(kor), float(eng), float(mat))\n",
    "avg_of_user1 = avg(sum_of_user1) \n",
    "print('{}의 총점:{}'.format(name, sum_of_user1))\n",
    "print('{}의 평균:{}'.format(name, round(avg_of_user1, 2)))"
   ]
  },
  {
   "cell_type": "code",
   "execution_count": null,
   "metadata": {},
   "outputs": [],
   "source": []
  }
 ],
 "metadata": {
  "kernelspec": {
   "display_name": "Python 3",
   "language": "python",
   "name": "python3"
  },
  "language_info": {
   "codemirror_mode": {
    "name": "ipython",
    "version": 3
   },
   "file_extension": ".py",
   "mimetype": "text/x-python",
   "name": "python",
   "nbconvert_exporter": "python",
   "pygments_lexer": "ipython3",
   "version": "3.7.6"
  }
 },
 "nbformat": 4,
 "nbformat_minor": 4
}
